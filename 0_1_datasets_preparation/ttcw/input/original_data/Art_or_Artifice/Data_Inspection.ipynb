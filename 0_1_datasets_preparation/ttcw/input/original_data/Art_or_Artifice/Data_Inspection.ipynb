{
 "cells": [
  {
   "cell_type": "code",
   "execution_count": 1,
   "metadata": {},
   "outputs": [],
   "source": [
    "from IPython.display import display\n",
    "import pandas as pd\n",
    "import json"
   ]
  },
  {
   "cell_type": "markdown",
   "metadata": {},
   "source": [
    "# 1. Loading the stories"
   ]
  },
  {
   "cell_type": "code",
   "execution_count": 2,
   "metadata": {},
   "outputs": [
    {
     "name": "stdout",
     "output_type": "stream",
     "text": [
      "There are 48 stories in the dataset\n",
      "dict_keys(['story_idx', 'story_id', 'story_name', 'plot', 'content'])\n",
      "[story_idx] 0\n",
      "[story_id] 0_GPT3.5\n",
      "[story_name] Maintenance, Hvidovre\n",
      "[plot] A woman experiences a disorienting night in a maternity ward where she encounters other similarly disoriented new mothers, leading to an uncanny mix-up where she leaves the hospital with a baby that she realizes is not her own, yet accepts the situation with an inexplicable sense of happiness.\n",
      "[content] The clock struck midnight as Lily stumbled through the sterile corridors of the maternity ward. Exha...\n"
     ]
    }
   ],
   "source": [
    "with open(\"stories/ttcw_short_stories.json\", \"r\") as f:\n",
    "    stories = json.load(f)\n",
    "\n",
    "print(\"There are %d stories in the dataset\" % len(stories))\n",
    "story = stories[2]\n",
    "print(story.keys()) # Note: for the LLM-generate stories, \"content\" is the generated story, and for NewYork-published stories, \"content\" is a URL to the New Yorker website.\n",
    "\n",
    "for k in story.keys():\n",
    "    v = story[k][:100] + \"...\" if k == \"content\" else story[k]\n",
    "    print(\"[%s] %s\" % (k, v))"
   ]
  },
  {
   "cell_type": "markdown",
   "metadata": {},
   "source": [
    "# 2. Loading the tests"
   ]
  },
  {
   "cell_type": "code",
   "execution_count": 3,
   "metadata": {},
   "outputs": [],
   "source": [
    "with open(\"tests/ttcw_all_tests.json\", \"r\") as f:\n",
    "    tests = json.load(f)"
   ]
  },
  {
   "cell_type": "code",
   "execution_count": 4,
   "metadata": {},
   "outputs": [
    {
     "name": "stdout",
     "output_type": "stream",
     "text": [
      "----- TTCW 1 -----\n",
      "Torrance Dimension: Fluency\n",
      "Category: Narrative Ending\n",
      "Question formulation: Does the end of the story feel natural and earned, as opposed to arbitrary or abrupt?\n",
      "Prompt: If the writer ends the piece simply because they are 'tired of writing', the conclusion might feel a...\n",
      "----- TTCW 2 -----\n",
      "Torrance Dimension: Fluency\n",
      "Category: Understandability and Coherence\n",
      "Question formulation: Do the different elements of the story work together to form a unified, engaging, and satisfying whole?\n",
      "Prompt: A well-crafted story usually follows a logical path, where the events in the beginning set up the mi...\n",
      "----- TTCW 3 -----\n",
      "Torrance Dimension: Fluency\n",
      "Category: Scene vs Summary\n",
      "Question formulation: Does the story have an appropriate balance between scene and summary/exposition or it relies on one of the elements heavily compared to the other?\n",
      "Prompt: 'Scene' and 'summary/exposition' are two crucial elements of narrative storytelling, and balancing t...\n",
      "----- TTCW 4 -----\n",
      "Torrance Dimension: Fluency\n",
      "Category: Narrative Pacing\n",
      "Question formulation: Does the manipulation of time in terms of compression or stretching feel appropriate and balanced?\n",
      "Prompt: 'Compression/stretching of time' in fiction writing, also known as pacing, refers to the manipulatio...\n",
      "----- TTCW 5 -----\n",
      "Torrance Dimension: Fluency\n",
      "Category: Language Proficiency and Literary Devices\n",
      "Question formulation: Does the story make sophisticated use of idiom or metaphor or literary allusion?\n",
      "Prompt: 'Idiom' refers to phrases or expressions that have a figurative, or sometimes literal, meaning that ...\n",
      "----- TTCW 6 -----\n",
      "Torrance Dimension: Flexibility\n",
      "Category: Emotional Flexibility\n",
      "Question formulation: Does the story achieve a good balance between interiority and exteriority, in a way that feels emotionally flexible?\n",
      "Prompt: 'Emotional flexibility' is asking whether the piece of writing effectively balances action and intro...\n",
      "----- TTCW 7 -----\n",
      "Torrance Dimension: Flexibility\n",
      "Category: Structural Flexibility\n",
      "Question formulation: Does the story contain turns that are both surprising and appropriate?\n",
      "Prompt: 'Surprising': This refers to the element of unpredictability in a narrative. A good story often has ...\n",
      "----- TTCW 8 -----\n",
      "Torrance Dimension: Flexibility\n",
      "Category: Perspective and Voice Flexibility\n",
      "Question formulation: Does the story provide diverse perspectives, and if there are unlikeable characters, are their perspectives presented convincingly and accurately?\n",
      "Prompt: A good writer can convincingly and accurately depict a wide range of character viewpoints, including...\n",
      "----- TTCW 9 -----\n",
      "Torrance Dimension: Originality\n",
      "Category: Originality in Thought\n",
      "Question formulation: Is the story an original piece of writing without any cliches?\n",
      "Prompt: A cliche is an idea, expression, character, or plot that has been overused to the point of losing it...\n",
      "----- TTCW 10 -----\n",
      "Torrance Dimension: Originality\n",
      "Category: Originality in Form and Structure\n",
      "Question formulation: Does the story show originality in its form and/or structure?\n",
      "Prompt: When someone says that a piece of fiction 'shows an innovative use of form/structure', they're refer...\n",
      "----- TTCW 11 -----\n",
      "Torrance Dimension: Originality\n",
      "Category: Originality in Theme and Content\n",
      "Question formulation: Will an average reader of this story obtain a unique and original idea from reading it?\n",
      "Prompt: If a story is good, the reader gains new insights, perspectives, or knowledge from it . This doesn't...\n",
      "----- TTCW 12 -----\n",
      "Torrance Dimension: Elaboration\n",
      "Category: Rhetorical Complexity\n",
      "Question formulation: Are there passages in the story that involve subtext and when there is subtext, does it enrich the story's setting or does it feel forced?\n",
      "Prompt: 'Surface' level: This is the most apparent and straightforward level of a story. It includes the vis...\n",
      "----- TTCW 13 -----\n",
      "Torrance Dimension: Elaboration\n",
      "Category: World Building and Setting\n",
      "Question formulation: Does the writer make the fictional world believable at the sensory level?\n",
      "Prompt: Sensory details pertain to the five senses - sight, sound, touch, taste, and smell. An effective wri...\n",
      "----- TTCW 14 -----\n",
      "Torrance Dimension: Elaboration\n",
      "Category: Character Development\n",
      "Question formulation: Does each character in the story feel developed at the appropriate complexity level, ensuring that no character feels like they are present simply to satisfy a plot requirement?\n",
      "Prompt: A 'flat character' is typically a minor character who is not thoroughly developed or who does not un...\n"
     ]
    }
   ],
   "source": [
    "for test in tests:\n",
    "    print(\"----- TTCW %d -----\" % test[\"ttcw_idx\"])\n",
    "    print(\"Torrance Dimension: %s\" % test[\"torrance_dimension\"])\n",
    "    print(\"Category: %s\" % test[\"category\"])\n",
    "    print(\"Question formulation: %s\" % test[\"question\"])\n",
    "    print(\"Prompt: %s...\" % (test[\"full_prompt\"][:100]))"
   ]
  },
  {
   "cell_type": "markdown",
   "metadata": {},
   "source": [
    "# 3. Loading the annotations"
   ]
  },
  {
   "cell_type": "code",
   "execution_count": 5,
   "metadata": {},
   "outputs": [
    {
     "name": "stdout",
     "output_type": "stream",
     "text": [
      "Total of 2016 annotations\n",
      "dict_keys(['story_idx', 'story_id', 'expert_idx', 'ttcw_idx', 'category', 'binary_verdict', 'explanation'])\n"
     ]
    }
   ],
   "source": [
    "with open(\"annotations/ttcw_annotations.json\", \"r\") as f:\n",
    "    annotations = json.load(f)\n",
    "\n",
    "# Each of the 14 tests was completed by 3 independent expert annotators.\n",
    "# 48 stories x 14 tests x 3 annotators = 2016 annotations\n",
    "print(\"Total of %d annotations\" % len(annotations))\n",
    "print(annotations[0].keys())"
   ]
  },
  {
   "cell_type": "code",
   "execution_count": 6,
   "metadata": {},
   "outputs": [
    {
     "name": "stdout",
     "output_type": "stream",
     "text": [
      "----- TTCW 1 -----\n",
      "[Fluency; Narrative Ending] Does the end of the story feel natural and earned, as opposed to arbitrary or abrupt?\n"
     ]
    },
    {
     "data": {
      "text/html": [
       "<div>\n",
       "<style scoped>\n",
       "    .dataframe tbody tr th:only-of-type {\n",
       "        vertical-align: middle;\n",
       "    }\n",
       "\n",
       "    .dataframe tbody tr th {\n",
       "        vertical-align: top;\n",
       "    }\n",
       "\n",
       "    .dataframe thead th {\n",
       "        text-align: right;\n",
       "    }\n",
       "</style>\n",
       "<table border=\"1\" class=\"dataframe\">\n",
       "  <thead>\n",
       "    <tr style=\"text-align: right;\">\n",
       "      <th></th>\n",
       "      <th>Expert Idx</th>\n",
       "      <th>Verdict</th>\n",
       "      <th>Explanation</th>\n",
       "    </tr>\n",
       "  </thead>\n",
       "  <tbody>\n",
       "    <tr>\n",
       "      <th>0</th>\n",
       "      <td>9</td>\n",
       "      <td>No</td>\n",
       "      <td>The end of the story feels arbitrary, in so fa...</td>\n",
       "    </tr>\n",
       "    <tr>\n",
       "      <th>1</th>\n",
       "      <td>1</td>\n",
       "      <td>No</td>\n",
       "      <td>Many of the decisions the story makes are star...</td>\n",
       "    </tr>\n",
       "    <tr>\n",
       "      <th>2</th>\n",
       "      <td>7</td>\n",
       "      <td>No</td>\n",
       "      <td>The ending to the story feels contrived and pa...</td>\n",
       "    </tr>\n",
       "  </tbody>\n",
       "</table>\n",
       "</div>"
      ],
      "text/plain": [
       "   Expert Idx Verdict                                        Explanation\n",
       "0           9      No  The end of the story feels arbitrary, in so fa...\n",
       "1           1      No  Many of the decisions the story makes are star...\n",
       "2           7      No  The ending to the story feels contrived and pa..."
      ]
     },
     "metadata": {},
     "output_type": "display_data"
    },
    {
     "name": "stdout",
     "output_type": "stream",
     "text": [
      "----- TTCW 2 -----\n",
      "[Fluency; Understandability and Coherence] Do the different elements of the story work together to form a unified, engaging, and satisfying whole?\n"
     ]
    },
    {
     "data": {
      "text/html": [
       "<div>\n",
       "<style scoped>\n",
       "    .dataframe tbody tr th:only-of-type {\n",
       "        vertical-align: middle;\n",
       "    }\n",
       "\n",
       "    .dataframe tbody tr th {\n",
       "        vertical-align: top;\n",
       "    }\n",
       "\n",
       "    .dataframe thead th {\n",
       "        text-align: right;\n",
       "    }\n",
       "</style>\n",
       "<table border=\"1\" class=\"dataframe\">\n",
       "  <thead>\n",
       "    <tr style=\"text-align: right;\">\n",
       "      <th></th>\n",
       "      <th>Expert Idx</th>\n",
       "      <th>Verdict</th>\n",
       "      <th>Explanation</th>\n",
       "    </tr>\n",
       "  </thead>\n",
       "  <tbody>\n",
       "    <tr>\n",
       "      <th>0</th>\n",
       "      <td>9</td>\n",
       "      <td>No</td>\n",
       "      <td>The story does not work together as a unified ...</td>\n",
       "    </tr>\n",
       "    <tr>\n",
       "      <th>1</th>\n",
       "      <td>1</td>\n",
       "      <td>No</td>\n",
       "      <td>The narrative consistently shifts so quickly t...</td>\n",
       "    </tr>\n",
       "    <tr>\n",
       "      <th>2</th>\n",
       "      <td>7</td>\n",
       "      <td>No</td>\n",
       "      <td>The two main threads of this story: the baby m...</td>\n",
       "    </tr>\n",
       "  </tbody>\n",
       "</table>\n",
       "</div>"
      ],
      "text/plain": [
       "   Expert Idx Verdict                                        Explanation\n",
       "0           9      No  The story does not work together as a unified ...\n",
       "1           1      No  The narrative consistently shifts so quickly t...\n",
       "2           7      No  The two main threads of this story: the baby m..."
      ]
     },
     "metadata": {},
     "output_type": "display_data"
    },
    {
     "name": "stdout",
     "output_type": "stream",
     "text": [
      "----- TTCW 3 -----\n",
      "[Fluency; Scene vs Summary] Does the story have an appropriate balance between scene and summary/exposition or it relies on one of the elements heavily compared to the other?\n"
     ]
    },
    {
     "data": {
      "text/html": [
       "<div>\n",
       "<style scoped>\n",
       "    .dataframe tbody tr th:only-of-type {\n",
       "        vertical-align: middle;\n",
       "    }\n",
       "\n",
       "    .dataframe tbody tr th {\n",
       "        vertical-align: top;\n",
       "    }\n",
       "\n",
       "    .dataframe thead th {\n",
       "        text-align: right;\n",
       "    }\n",
       "</style>\n",
       "<table border=\"1\" class=\"dataframe\">\n",
       "  <thead>\n",
       "    <tr style=\"text-align: right;\">\n",
       "      <th></th>\n",
       "      <th>Expert Idx</th>\n",
       "      <th>Verdict</th>\n",
       "      <th>Explanation</th>\n",
       "    </tr>\n",
       "  </thead>\n",
       "  <tbody>\n",
       "    <tr>\n",
       "      <th>0</th>\n",
       "      <td>9</td>\n",
       "      <td>No</td>\n",
       "      <td>The summary of events over the course of the l...</td>\n",
       "    </tr>\n",
       "    <tr>\n",
       "      <th>1</th>\n",
       "      <td>1</td>\n",
       "      <td>No</td>\n",
       "      <td>Though the story does contain some scenes with...</td>\n",
       "    </tr>\n",
       "    <tr>\n",
       "      <th>2</th>\n",
       "      <td>7</td>\n",
       "      <td>No</td>\n",
       "      <td>There are both scenes and summary here, but ne...</td>\n",
       "    </tr>\n",
       "  </tbody>\n",
       "</table>\n",
       "</div>"
      ],
      "text/plain": [
       "   Expert Idx Verdict                                        Explanation\n",
       "0           9      No  The summary of events over the course of the l...\n",
       "1           1      No  Though the story does contain some scenes with...\n",
       "2           7      No  There are both scenes and summary here, but ne..."
      ]
     },
     "metadata": {},
     "output_type": "display_data"
    },
    {
     "name": "stdout",
     "output_type": "stream",
     "text": [
      "----- TTCW 4 -----\n",
      "[Fluency; Narrative Pacing] Does the manipulation of time in terms of compression or stretching feel appropriate and balanced?\n"
     ]
    },
    {
     "data": {
      "text/html": [
       "<div>\n",
       "<style scoped>\n",
       "    .dataframe tbody tr th:only-of-type {\n",
       "        vertical-align: middle;\n",
       "    }\n",
       "\n",
       "    .dataframe tbody tr th {\n",
       "        vertical-align: top;\n",
       "    }\n",
       "\n",
       "    .dataframe thead th {\n",
       "        text-align: right;\n",
       "    }\n",
       "</style>\n",
       "<table border=\"1\" class=\"dataframe\">\n",
       "  <thead>\n",
       "    <tr style=\"text-align: right;\">\n",
       "      <th></th>\n",
       "      <th>Expert Idx</th>\n",
       "      <th>Verdict</th>\n",
       "      <th>Explanation</th>\n",
       "    </tr>\n",
       "  </thead>\n",
       "  <tbody>\n",
       "    <tr>\n",
       "      <th>0</th>\n",
       "      <td>9</td>\n",
       "      <td>No</td>\n",
       "      <td>The last couple pages are characterized by a v...</td>\n",
       "    </tr>\n",
       "    <tr>\n",
       "      <th>1</th>\n",
       "      <td>1</td>\n",
       "      <td>No</td>\n",
       "      <td>The narrative pairs its absurd leaps in logic ...</td>\n",
       "    </tr>\n",
       "    <tr>\n",
       "      <th>2</th>\n",
       "      <td>7</td>\n",
       "      <td>No</td>\n",
       "      <td>While the narrative does include moments of bo...</td>\n",
       "    </tr>\n",
       "  </tbody>\n",
       "</table>\n",
       "</div>"
      ],
      "text/plain": [
       "   Expert Idx Verdict                                        Explanation\n",
       "0           9      No  The last couple pages are characterized by a v...\n",
       "1           1      No  The narrative pairs its absurd leaps in logic ...\n",
       "2           7      No  While the narrative does include moments of bo..."
      ]
     },
     "metadata": {},
     "output_type": "display_data"
    },
    {
     "name": "stdout",
     "output_type": "stream",
     "text": [
      "----- TTCW 5 -----\n",
      "[Fluency; Language Proficiency and Literary Devices] Does the story make sophisticated use of idiom or metaphor or literary allusion?\n"
     ]
    },
    {
     "data": {
      "text/html": [
       "<div>\n",
       "<style scoped>\n",
       "    .dataframe tbody tr th:only-of-type {\n",
       "        vertical-align: middle;\n",
       "    }\n",
       "\n",
       "    .dataframe tbody tr th {\n",
       "        vertical-align: top;\n",
       "    }\n",
       "\n",
       "    .dataframe thead th {\n",
       "        text-align: right;\n",
       "    }\n",
       "</style>\n",
       "<table border=\"1\" class=\"dataframe\">\n",
       "  <thead>\n",
       "    <tr style=\"text-align: right;\">\n",
       "      <th></th>\n",
       "      <th>Expert Idx</th>\n",
       "      <th>Verdict</th>\n",
       "      <th>Explanation</th>\n",
       "    </tr>\n",
       "  </thead>\n",
       "  <tbody>\n",
       "    <tr>\n",
       "      <th>0</th>\n",
       "      <td>9</td>\n",
       "      <td>No</td>\n",
       "      <td>The language is straightforward, and does not ...</td>\n",
       "    </tr>\n",
       "    <tr>\n",
       "      <th>1</th>\n",
       "      <td>1</td>\n",
       "      <td>No</td>\n",
       "      <td>The story uses overwrought language throughout...</td>\n",
       "    </tr>\n",
       "    <tr>\n",
       "      <th>2</th>\n",
       "      <td>7</td>\n",
       "      <td>No</td>\n",
       "      <td>The language throughout lacks sophistication—I...</td>\n",
       "    </tr>\n",
       "  </tbody>\n",
       "</table>\n",
       "</div>"
      ],
      "text/plain": [
       "   Expert Idx Verdict                                        Explanation\n",
       "0           9      No  The language is straightforward, and does not ...\n",
       "1           1      No  The story uses overwrought language throughout...\n",
       "2           7      No  The language throughout lacks sophistication—I..."
      ]
     },
     "metadata": {},
     "output_type": "display_data"
    },
    {
     "name": "stdout",
     "output_type": "stream",
     "text": [
      "----- TTCW 6 -----\n",
      "[Flexibility; Emotional Flexibility] Does the story achieve a good balance between interiority and exteriority, in a way that feels emotionally flexible?\n"
     ]
    },
    {
     "data": {
      "text/html": [
       "<div>\n",
       "<style scoped>\n",
       "    .dataframe tbody tr th:only-of-type {\n",
       "        vertical-align: middle;\n",
       "    }\n",
       "\n",
       "    .dataframe tbody tr th {\n",
       "        vertical-align: top;\n",
       "    }\n",
       "\n",
       "    .dataframe thead th {\n",
       "        text-align: right;\n",
       "    }\n",
       "</style>\n",
       "<table border=\"1\" class=\"dataframe\">\n",
       "  <thead>\n",
       "    <tr style=\"text-align: right;\">\n",
       "      <th></th>\n",
       "      <th>Expert Idx</th>\n",
       "      <th>Verdict</th>\n",
       "      <th>Explanation</th>\n",
       "    </tr>\n",
       "  </thead>\n",
       "  <tbody>\n",
       "    <tr>\n",
       "      <th>0</th>\n",
       "      <td>9</td>\n",
       "      <td>Yes</td>\n",
       "      <td>There is a good balance between action and Lil...</td>\n",
       "    </tr>\n",
       "    <tr>\n",
       "      <th>1</th>\n",
       "      <td>1</td>\n",
       "      <td>No</td>\n",
       "      <td>There is no emotional experience to this story...</td>\n",
       "    </tr>\n",
       "    <tr>\n",
       "      <th>2</th>\n",
       "      <td>7</td>\n",
       "      <td>No</td>\n",
       "      <td>While the story offers us perhaps too many des...</td>\n",
       "    </tr>\n",
       "  </tbody>\n",
       "</table>\n",
       "</div>"
      ],
      "text/plain": [
       "   Expert Idx Verdict                                        Explanation\n",
       "0           9     Yes  There is a good balance between action and Lil...\n",
       "1           1      No  There is no emotional experience to this story...\n",
       "2           7      No  While the story offers us perhaps too many des..."
      ]
     },
     "metadata": {},
     "output_type": "display_data"
    },
    {
     "name": "stdout",
     "output_type": "stream",
     "text": [
      "----- TTCW 7 -----\n",
      "[Flexibility; Structural Flexibility] Does the story contain turns that are both surprising and appropriate?\n"
     ]
    },
    {
     "data": {
      "text/html": [
       "<div>\n",
       "<style scoped>\n",
       "    .dataframe tbody tr th:only-of-type {\n",
       "        vertical-align: middle;\n",
       "    }\n",
       "\n",
       "    .dataframe tbody tr th {\n",
       "        vertical-align: top;\n",
       "    }\n",
       "\n",
       "    .dataframe thead th {\n",
       "        text-align: right;\n",
       "    }\n",
       "</style>\n",
       "<table border=\"1\" class=\"dataframe\">\n",
       "  <thead>\n",
       "    <tr style=\"text-align: right;\">\n",
       "      <th></th>\n",
       "      <th>Expert Idx</th>\n",
       "      <th>Verdict</th>\n",
       "      <th>Explanation</th>\n",
       "    </tr>\n",
       "  </thead>\n",
       "  <tbody>\n",
       "    <tr>\n",
       "      <th>0</th>\n",
       "      <td>9</td>\n",
       "      <td>No</td>\n",
       "      <td>The turns taken in the story don't seem approp...</td>\n",
       "    </tr>\n",
       "    <tr>\n",
       "      <th>1</th>\n",
       "      <td>1</td>\n",
       "      <td>No</td>\n",
       "      <td>The story makes unhinged decisions. It is bold...</td>\n",
       "    </tr>\n",
       "    <tr>\n",
       "      <th>2</th>\n",
       "      <td>7</td>\n",
       "      <td>No</td>\n",
       "      <td>There are surprises here but they feel mostly ...</td>\n",
       "    </tr>\n",
       "  </tbody>\n",
       "</table>\n",
       "</div>"
      ],
      "text/plain": [
       "   Expert Idx Verdict                                        Explanation\n",
       "0           9      No  The turns taken in the story don't seem approp...\n",
       "1           1      No  The story makes unhinged decisions. It is bold...\n",
       "2           7      No  There are surprises here but they feel mostly ..."
      ]
     },
     "metadata": {},
     "output_type": "display_data"
    },
    {
     "name": "stdout",
     "output_type": "stream",
     "text": [
      "----- TTCW 8 -----\n",
      "[Flexibility; Perspective and Voice Flexibility] Does the story provide diverse perspectives, and if there are unlikeable characters, are their perspectives presented convincingly and accurately?\n"
     ]
    },
    {
     "data": {
      "text/html": [
       "<div>\n",
       "<style scoped>\n",
       "    .dataframe tbody tr th:only-of-type {\n",
       "        vertical-align: middle;\n",
       "    }\n",
       "\n",
       "    .dataframe tbody tr th {\n",
       "        vertical-align: top;\n",
       "    }\n",
       "\n",
       "    .dataframe thead th {\n",
       "        text-align: right;\n",
       "    }\n",
       "</style>\n",
       "<table border=\"1\" class=\"dataframe\">\n",
       "  <thead>\n",
       "    <tr style=\"text-align: right;\">\n",
       "      <th></th>\n",
       "      <th>Expert Idx</th>\n",
       "      <th>Verdict</th>\n",
       "      <th>Explanation</th>\n",
       "    </tr>\n",
       "  </thead>\n",
       "  <tbody>\n",
       "    <tr>\n",
       "      <th>0</th>\n",
       "      <td>9</td>\n",
       "      <td>No</td>\n",
       "      <td>The other mother disappears from the narrative...</td>\n",
       "    </tr>\n",
       "    <tr>\n",
       "      <th>1</th>\n",
       "      <td>1</td>\n",
       "      <td>No</td>\n",
       "      <td>Lily is an empty vessel. I do not believe she ...</td>\n",
       "    </tr>\n",
       "    <tr>\n",
       "      <th>2</th>\n",
       "      <td>7</td>\n",
       "      <td>No</td>\n",
       "      <td>The story does not provide diverse perspective...</td>\n",
       "    </tr>\n",
       "  </tbody>\n",
       "</table>\n",
       "</div>"
      ],
      "text/plain": [
       "   Expert Idx Verdict                                        Explanation\n",
       "0           9      No  The other mother disappears from the narrative...\n",
       "1           1      No  Lily is an empty vessel. I do not believe she ...\n",
       "2           7      No  The story does not provide diverse perspective..."
      ]
     },
     "metadata": {},
     "output_type": "display_data"
    },
    {
     "name": "stdout",
     "output_type": "stream",
     "text": [
      "----- TTCW 9 -----\n",
      "[Originality; Originality in Thought] Is the story an original piece of writing without any cliches?\n"
     ]
    },
    {
     "data": {
      "text/html": [
       "<div>\n",
       "<style scoped>\n",
       "    .dataframe tbody tr th:only-of-type {\n",
       "        vertical-align: middle;\n",
       "    }\n",
       "\n",
       "    .dataframe tbody tr th {\n",
       "        vertical-align: top;\n",
       "    }\n",
       "\n",
       "    .dataframe thead th {\n",
       "        text-align: right;\n",
       "    }\n",
       "</style>\n",
       "<table border=\"1\" class=\"dataframe\">\n",
       "  <thead>\n",
       "    <tr style=\"text-align: right;\">\n",
       "      <th></th>\n",
       "      <th>Expert Idx</th>\n",
       "      <th>Verdict</th>\n",
       "      <th>Explanation</th>\n",
       "    </tr>\n",
       "  </thead>\n",
       "  <tbody>\n",
       "    <tr>\n",
       "      <th>0</th>\n",
       "      <td>9</td>\n",
       "      <td>No</td>\n",
       "      <td>The end of the story drifts toward cliche and ...</td>\n",
       "    </tr>\n",
       "    <tr>\n",
       "      <th>1</th>\n",
       "      <td>1</td>\n",
       "      <td>No</td>\n",
       "      <td>I am tempted to answer yes to this because the...</td>\n",
       "    </tr>\n",
       "    <tr>\n",
       "      <th>2</th>\n",
       "      <td>7</td>\n",
       "      <td>No</td>\n",
       "      <td>This piece is full of cliches, including phras...</td>\n",
       "    </tr>\n",
       "  </tbody>\n",
       "</table>\n",
       "</div>"
      ],
      "text/plain": [
       "   Expert Idx Verdict                                        Explanation\n",
       "0           9      No  The end of the story drifts toward cliche and ...\n",
       "1           1      No  I am tempted to answer yes to this because the...\n",
       "2           7      No  This piece is full of cliches, including phras..."
      ]
     },
     "metadata": {},
     "output_type": "display_data"
    },
    {
     "name": "stdout",
     "output_type": "stream",
     "text": [
      "----- TTCW 10 -----\n",
      "[Originality; Originality in Form and Structure] Does the story show originality in its form and/or structure?\n"
     ]
    },
    {
     "data": {
      "text/html": [
       "<div>\n",
       "<style scoped>\n",
       "    .dataframe tbody tr th:only-of-type {\n",
       "        vertical-align: middle;\n",
       "    }\n",
       "\n",
       "    .dataframe tbody tr th {\n",
       "        vertical-align: top;\n",
       "    }\n",
       "\n",
       "    .dataframe thead th {\n",
       "        text-align: right;\n",
       "    }\n",
       "</style>\n",
       "<table border=\"1\" class=\"dataframe\">\n",
       "  <thead>\n",
       "    <tr style=\"text-align: right;\">\n",
       "      <th></th>\n",
       "      <th>Expert Idx</th>\n",
       "      <th>Verdict</th>\n",
       "      <th>Explanation</th>\n",
       "    </tr>\n",
       "  </thead>\n",
       "  <tbody>\n",
       "    <tr>\n",
       "      <th>0</th>\n",
       "      <td>9</td>\n",
       "      <td>No</td>\n",
       "      <td>There is nothing really original about the sto...</td>\n",
       "    </tr>\n",
       "    <tr>\n",
       "      <th>1</th>\n",
       "      <td>1</td>\n",
       "      <td>No</td>\n",
       "      <td>The originality here is that the turns and twi...</td>\n",
       "    </tr>\n",
       "    <tr>\n",
       "      <th>2</th>\n",
       "      <td>7</td>\n",
       "      <td>No</td>\n",
       "      <td>While this story fails to execute on a traditi...</td>\n",
       "    </tr>\n",
       "  </tbody>\n",
       "</table>\n",
       "</div>"
      ],
      "text/plain": [
       "   Expert Idx Verdict                                        Explanation\n",
       "0           9      No  There is nothing really original about the sto...\n",
       "1           1      No  The originality here is that the turns and twi...\n",
       "2           7      No  While this story fails to execute on a traditi..."
      ]
     },
     "metadata": {},
     "output_type": "display_data"
    },
    {
     "name": "stdout",
     "output_type": "stream",
     "text": [
      "----- TTCW 11 -----\n",
      "[Originality; Originality in Theme and Content] Will an average reader of this story obtain a unique and original idea from reading it?\n"
     ]
    },
    {
     "data": {
      "text/html": [
       "<div>\n",
       "<style scoped>\n",
       "    .dataframe tbody tr th:only-of-type {\n",
       "        vertical-align: middle;\n",
       "    }\n",
       "\n",
       "    .dataframe tbody tr th {\n",
       "        vertical-align: top;\n",
       "    }\n",
       "\n",
       "    .dataframe thead th {\n",
       "        text-align: right;\n",
       "    }\n",
       "</style>\n",
       "<table border=\"1\" class=\"dataframe\">\n",
       "  <thead>\n",
       "    <tr style=\"text-align: right;\">\n",
       "      <th></th>\n",
       "      <th>Expert Idx</th>\n",
       "      <th>Verdict</th>\n",
       "      <th>Explanation</th>\n",
       "    </tr>\n",
       "  </thead>\n",
       "  <tbody>\n",
       "    <tr>\n",
       "      <th>0</th>\n",
       "      <td>9</td>\n",
       "      <td>No</td>\n",
       "      <td>Perhaps if the emotional connection between th...</td>\n",
       "    </tr>\n",
       "    <tr>\n",
       "      <th>1</th>\n",
       "      <td>1</td>\n",
       "      <td>No</td>\n",
       "      <td>To be frank, I do not believe this story has t...</td>\n",
       "    </tr>\n",
       "    <tr>\n",
       "      <th>2</th>\n",
       "      <td>7</td>\n",
       "      <td>No</td>\n",
       "      <td>While the story seems to be attempting to offe...</td>\n",
       "    </tr>\n",
       "  </tbody>\n",
       "</table>\n",
       "</div>"
      ],
      "text/plain": [
       "   Expert Idx Verdict                                        Explanation\n",
       "0           9      No  Perhaps if the emotional connection between th...\n",
       "1           1      No  To be frank, I do not believe this story has t...\n",
       "2           7      No  While the story seems to be attempting to offe..."
      ]
     },
     "metadata": {},
     "output_type": "display_data"
    },
    {
     "name": "stdout",
     "output_type": "stream",
     "text": [
      "----- TTCW 12 -----\n",
      "[Elaboration; Rhetorical Complexity] Are there passages in the story that involve subtext and when there is subtext, does it enrich the story's setting or does it feel forced?\n"
     ]
    },
    {
     "data": {
      "text/html": [
       "<div>\n",
       "<style scoped>\n",
       "    .dataframe tbody tr th:only-of-type {\n",
       "        vertical-align: middle;\n",
       "    }\n",
       "\n",
       "    .dataframe tbody tr th {\n",
       "        vertical-align: top;\n",
       "    }\n",
       "\n",
       "    .dataframe thead th {\n",
       "        text-align: right;\n",
       "    }\n",
       "</style>\n",
       "<table border=\"1\" class=\"dataframe\">\n",
       "  <thead>\n",
       "    <tr style=\"text-align: right;\">\n",
       "      <th></th>\n",
       "      <th>Expert Idx</th>\n",
       "      <th>Verdict</th>\n",
       "      <th>Explanation</th>\n",
       "    </tr>\n",
       "  </thead>\n",
       "  <tbody>\n",
       "    <tr>\n",
       "      <th>0</th>\n",
       "      <td>9</td>\n",
       "      <td>No</td>\n",
       "      <td>I couldn't discern much of any meaning or allu...</td>\n",
       "    </tr>\n",
       "    <tr>\n",
       "      <th>1</th>\n",
       "      <td>1</td>\n",
       "      <td>No</td>\n",
       "      <td>There is nothing happening in this story that ...</td>\n",
       "    </tr>\n",
       "    <tr>\n",
       "      <th>2</th>\n",
       "      <td>7</td>\n",
       "      <td>No</td>\n",
       "      <td>The piece clearly has aspirations towards a la...</td>\n",
       "    </tr>\n",
       "  </tbody>\n",
       "</table>\n",
       "</div>"
      ],
      "text/plain": [
       "   Expert Idx Verdict                                        Explanation\n",
       "0           9      No  I couldn't discern much of any meaning or allu...\n",
       "1           1      No  There is nothing happening in this story that ...\n",
       "2           7      No  The piece clearly has aspirations towards a la..."
      ]
     },
     "metadata": {},
     "output_type": "display_data"
    },
    {
     "name": "stdout",
     "output_type": "stream",
     "text": [
      "----- TTCW 13 -----\n",
      "[Elaboration; World Building and Setting] Does the writer make the fictional world believable at the sensory level?\n"
     ]
    },
    {
     "data": {
      "text/html": [
       "<div>\n",
       "<style scoped>\n",
       "    .dataframe tbody tr th:only-of-type {\n",
       "        vertical-align: middle;\n",
       "    }\n",
       "\n",
       "    .dataframe tbody tr th {\n",
       "        vertical-align: top;\n",
       "    }\n",
       "\n",
       "    .dataframe thead th {\n",
       "        text-align: right;\n",
       "    }\n",
       "</style>\n",
       "<table border=\"1\" class=\"dataframe\">\n",
       "  <thead>\n",
       "    <tr style=\"text-align: right;\">\n",
       "      <th></th>\n",
       "      <th>Expert Idx</th>\n",
       "      <th>Verdict</th>\n",
       "      <th>Explanation</th>\n",
       "    </tr>\n",
       "  </thead>\n",
       "  <tbody>\n",
       "    <tr>\n",
       "      <th>0</th>\n",
       "      <td>9</td>\n",
       "      <td>No</td>\n",
       "      <td>Overall, no. There is good attention to detail...</td>\n",
       "    </tr>\n",
       "    <tr>\n",
       "      <th>1</th>\n",
       "      <td>1</td>\n",
       "      <td>No</td>\n",
       "      <td>There are attempts to create scenes here and t...</td>\n",
       "    </tr>\n",
       "    <tr>\n",
       "      <th>2</th>\n",
       "      <td>7</td>\n",
       "      <td>No</td>\n",
       "      <td>There is very little sensory detail here—descr...</td>\n",
       "    </tr>\n",
       "  </tbody>\n",
       "</table>\n",
       "</div>"
      ],
      "text/plain": [
       "   Expert Idx Verdict                                        Explanation\n",
       "0           9      No  Overall, no. There is good attention to detail...\n",
       "1           1      No  There are attempts to create scenes here and t...\n",
       "2           7      No  There is very little sensory detail here—descr..."
      ]
     },
     "metadata": {},
     "output_type": "display_data"
    },
    {
     "name": "stdout",
     "output_type": "stream",
     "text": [
      "----- TTCW 14 -----\n",
      "[Elaboration; Character Development] Does each character in the story feel developed at the appropriate complexity level, ensuring that no character feels like they are present simply to satisfy a plot requirement?\n"
     ]
    },
    {
     "data": {
      "text/html": [
       "<div>\n",
       "<style scoped>\n",
       "    .dataframe tbody tr th:only-of-type {\n",
       "        vertical-align: middle;\n",
       "    }\n",
       "\n",
       "    .dataframe tbody tr th {\n",
       "        vertical-align: top;\n",
       "    }\n",
       "\n",
       "    .dataframe thead th {\n",
       "        text-align: right;\n",
       "    }\n",
       "</style>\n",
       "<table border=\"1\" class=\"dataframe\">\n",
       "  <thead>\n",
       "    <tr style=\"text-align: right;\">\n",
       "      <th></th>\n",
       "      <th>Expert Idx</th>\n",
       "      <th>Verdict</th>\n",
       "      <th>Explanation</th>\n",
       "    </tr>\n",
       "  </thead>\n",
       "  <tbody>\n",
       "    <tr>\n",
       "      <th>0</th>\n",
       "      <td>9</td>\n",
       "      <td>No</td>\n",
       "      <td>Lily is the only character that is developed t...</td>\n",
       "    </tr>\n",
       "    <tr>\n",
       "      <th>1</th>\n",
       "      <td>1</td>\n",
       "      <td>No</td>\n",
       "      <td>The characters are just names. Lily does somet...</td>\n",
       "    </tr>\n",
       "    <tr>\n",
       "      <th>2</th>\n",
       "      <td>7</td>\n",
       "      <td>No</td>\n",
       "      <td>With the exception of the fact that her mother...</td>\n",
       "    </tr>\n",
       "  </tbody>\n",
       "</table>\n",
       "</div>"
      ],
      "text/plain": [
       "   Expert Idx Verdict                                        Explanation\n",
       "0           9      No  Lily is the only character that is developed t...\n",
       "1           1      No  The characters are just names. Lily does somet...\n",
       "2           7      No  With the exception of the fact that her mother..."
      ]
     },
     "metadata": {},
     "output_type": "display_data"
    }
   ],
   "source": [
    "# For the story selected above (Maintenance by GPT3.5), let's look at all the administered tests. \n",
    "for test in tests:\n",
    "    print(\"----- TTCW %d -----\" % test[\"ttcw_idx\"])\n",
    "    print(\"[%s; %s] %s\" % (test[\"torrance_dimension\"], test[\"category\"], test[\"question\"]))\n",
    "    table = []\n",
    "    for anno in annotations:\n",
    "        if anno[\"story_id\"] == story[\"story_id\"] and test[\"ttcw_idx\"] == anno[\"ttcw_idx\"]:\n",
    "            table.append({\"Expert Idx\": anno[\"expert_idx\"], \"Verdict\": anno[\"binary_verdict\"], \"Explanation\": anno[\"explanation\"][:100]+\"...\"})\n",
    "    \n",
    "    display(pd.DataFrame(table))"
   ]
  }
 ],
 "metadata": {
  "kernelspec": {
   "display_name": "canon",
   "language": "python",
   "name": "python3"
  },
  "language_info": {
   "codemirror_mode": {
    "name": "ipython",
    "version": 3
   },
   "file_extension": ".py",
   "mimetype": "text/x-python",
   "name": "python",
   "nbconvert_exporter": "python",
   "pygments_lexer": "ipython3",
   "version": "3.11.11"
  },
  "orig_nbformat": 4
 },
 "nbformat": 4,
 "nbformat_minor": 2
}
