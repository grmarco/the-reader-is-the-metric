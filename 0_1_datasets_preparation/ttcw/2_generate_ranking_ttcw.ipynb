{
 "cells": [
  {
   "cell_type": "code",
   "execution_count": 1,
   "metadata": {},
   "outputs": [
    {
     "name": "stderr",
     "output_type": "stream",
     "text": [
      "/tmp/ipykernel_421110/3639219542.py:41: DeprecationWarning: DataFrameGroupBy.apply operated on the grouping columns. This behavior is deprecated, and in a future version of pandas the grouping columns will be excluded from the operation. Either pass `include_groups=False` to exclude the groupings or explicitly select the grouping columns after groupby to silence this warning.\n",
      "  df_ranked = df_scores.groupby('expert_idx').apply(assign_ranking).reset_index(drop=True)\n"
     ]
    }
   ],
   "source": [
    "import json\n",
    "import pandas as pd\n",
    "\n",
    "# Cargar los datos\n",
    "with open('input/ttcw_annotations.json') as f:\n",
    "    annotations = json.load(f)\n",
    "\n",
    "with open('input/ttcw_short_stories.json') as f:\n",
    "    short_stories = json.load(f)\n",
    "\n",
    "with open('input/ttcw_all_tests.json') as f:\n",
    "    tests = json.load(f)\n",
    "\n",
    "# Convertir a DataFrames\n",
    "df_annotations = pd.DataFrame(annotations)\n",
    "df_short_stories = pd.DataFrame(short_stories)\n",
    "df_tests = pd.DataFrame(tests)\n",
    "\n",
    "# Calcular la puntuación total para cada historia por crítico\n",
    "df_annotations['binary_score'] = df_annotations['binary_verdict'].apply(lambda x: 1 if x == \"Yes\" else 0)\n",
    "df_scores = df_annotations.groupby(['expert_idx', 'story_id']).agg(total_score=('binary_score', 'sum')).reset_index()\n",
    "\n",
    "def assign_ranking(group):\n",
    "    group = group.copy()\n",
    "    # Ordenar las historias por puntuación total de forma descendente\n",
    "    group = group.sort_values('total_score', ascending=False)\n",
    "    # Asignar ranking: si hay empates se le asigna la misma posición (dense ranking)\n",
    "    group['ranking_pos'] = group['total_score'].rank(method='dense', ascending=False).astype(int)\n",
    "    # El valor del ranking es la puntuación total\n",
    "    group['ranking_value'] = group['total_score']\n",
    "    # Calcular el ranking value normalizado por experto (min-max)\n",
    "    min_val = group['ranking_value'].min()\n",
    "    max_val = group['ranking_value'].max()\n",
    "    if max_val - min_val != 0:\n",
    "        group['ranking_value_norm'] = (group['ranking_value'] - min_val) / (max_val - min_val)\n",
    "    else:\n",
    "        group['ranking_value_norm'] = 0.0\n",
    "    return group\n",
    "\n",
    "# Aplicar la función de ranking para cada experto\n",
    "df_ranked = df_scores.groupby('expert_idx').apply(assign_ranking).reset_index(drop=True)\n",
    "# Añadir la columna 'user_id' formateada como Expert{expert_idx}\n",
    "df_ranked['user_id'] = 'Expert' + df_ranked['expert_idx'].astype(str)\n",
    "\n",
    "# Seleccionar las columnas deseadas\n",
    "df_output = df_ranked[['user_id', 'story_id', 'ranking_pos', 'ranking_value', 'ranking_value_norm']]\n",
    "\n",
    "df_output.to_csv('output/ranking.csv', index=False)"
   ]
  }
 ],
 "metadata": {
  "kernelspec": {
   "display_name": "canonenv",
   "language": "python",
   "name": "python3"
  },
  "language_info": {
   "codemirror_mode": {
    "name": "ipython",
    "version": 3
   },
   "file_extension": ".py",
   "mimetype": "text/x-python",
   "name": "python",
   "nbconvert_exporter": "python",
   "pygments_lexer": "ipython3",
   "version": "3.10.8"
  }
 },
 "nbformat": 4,
 "nbformat_minor": 2
}
