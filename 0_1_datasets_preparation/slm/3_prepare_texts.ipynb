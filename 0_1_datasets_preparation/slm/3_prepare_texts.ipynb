{
 "cells": [
  {
   "cell_type": "code",
   "execution_count": 2,
   "metadata": {},
   "outputs": [],
   "source": [
    "import pandas as pd\n",
    "\n",
    "# Cargar el dataset\n",
    "file_path = 'input/slm_synopses.csv'\n",
    "df_stories = pd.read_csv(file_path)\n",
    "\n",
    "# Crear la columna 'story_id' combinando 'title' y 'author'\n",
    "df_stories['story_id'] = df_stories['Title'] + '_' + df_stories['author']\n",
    "\n",
    "# Seleccionar columnas y estructurar el dataset al estilo proporcionado\n",
    "structured_dataset = []\n",
    "for _, row in df_stories.iterrows():\n",
    "    structured_dataset.append({\n",
    "        \"story_idx\": row['id'],\n",
    "        \"story_id\": row['story_id'],\n",
    "        \"story_name\": row['Title'],\n",
    "        \"content\": row['text']\n",
    "    })\n",
    "\n",
    "# Convertir a un DataFrame final\n",
    "structured_df = pd.DataFrame(structured_dataset)\n",
    "structured_df.to_json('output/slm_short_stories.json', orient='records', indent=2)"
   ]
  },
  {
   "cell_type": "code",
   "execution_count": null,
   "metadata": {},
   "outputs": [],
   "source": []
  }
 ],
 "metadata": {
  "kernelspec": {
   "display_name": "canonenv",
   "language": "python",
   "name": "python3"
  },
  "language_info": {
   "codemirror_mode": {
    "name": "ipython",
    "version": 3
   },
   "file_extension": ".py",
   "mimetype": "text/x-python",
   "name": "python",
   "nbconvert_exporter": "python",
   "pygments_lexer": "ipython3",
   "version": "3.10.8"
  }
 },
 "nbformat": 4,
 "nbformat_minor": 2
}
