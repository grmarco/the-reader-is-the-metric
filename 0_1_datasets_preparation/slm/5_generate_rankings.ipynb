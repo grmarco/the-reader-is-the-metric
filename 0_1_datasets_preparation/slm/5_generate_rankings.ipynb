{
 "cells": [
  {
   "cell_type": "code",
   "execution_count": 1,
   "metadata": {},
   "outputs": [
    {
     "name": "stdout",
     "output_type": "stream",
     "text": [
      "CSV file created: output/user_rankings_rated.csv\n"
     ]
    },
    {
     "name": "stderr",
     "output_type": "stream",
     "text": [
      "/tmp/ipykernel_421045/3260149161.py:37: DeprecationWarning: DataFrameGroupBy.apply operated on the grouping columns. This behavior is deprecated, and in a future version of pandas the grouping columns will be excluded from the operation. Either pass `include_groups=False` to exclude the groupings or explicitly select the grouping columns after groupby to silence this warning.\n",
      "  df_ranked = df.groupby('user').apply(assign_ranking).reset_index(drop=True)\n"
     ]
    }
   ],
   "source": [
    "import pandas as pd\n",
    "\n",
    "# Definir las rutas\n",
    "file_path = 'input/ranked_answers.csv'\n",
    "output_csv = 'output/user_rankings_rated.csv'\n",
    "\n",
    "# Cargar el archivo CSV\n",
    "df = pd.read_csv(file_path)\n",
    "\n",
    "# Crear la columna 'story_id' combinando 'title' y 'writer'\n",
    "df['story_id'] = df['title'] + '_' + df['writer']\n",
    "\n",
    "# Definir las columnas de puntuación a considerar\n",
    "score_columns = ['atractivo', 'creatividad', 'gramaticalidad', 'relacion', 'informacion', 'sentido']\n",
    "\n",
    "# Calcular la suma de puntuaciones para cada historia\n",
    "df['total_score'] = df[score_columns].sum(axis=1)\n",
    "\n",
    "def assign_ranking(group):\n",
    "    group = group.copy()\n",
    "    # Ordenar las historias por puntuación total de forma descendente\n",
    "    group = group.sort_values('total_score', ascending=False)\n",
    "    # Asignar ranking usando dense (mantener empates con la misma posición)\n",
    "    group['ranking_pos'] = group['total_score'].rank(method='dense', ascending=False).astype(int)\n",
    "    # El valor del ranking es la puntuación total\n",
    "    group['ranking_value'] = group['total_score']\n",
    "    # Calcular ranking_value normalizado por usuario (min-max)\n",
    "    min_score = group['ranking_value'].min()\n",
    "    max_score = group['ranking_value'].max()\n",
    "    if max_score - min_score != 0:\n",
    "        group['ranking_value_norm'] = (group['ranking_value'] - min_score) / (max_score - min_score)\n",
    "    else:\n",
    "        group['ranking_value_norm'] = 0.0\n",
    "    return group\n",
    "\n",
    "# Aplicar el ranking por usuario\n",
    "df_ranked = df.groupby('user').apply(assign_ranking).reset_index(drop=True)\n",
    "\n",
    "# Seleccionar las columnas deseadas\n",
    "df_output = df_ranked[['user', 'story_id', 'ranking_pos', 'ranking_value', 'ranking_value_norm']]\n",
    "\n",
    "# Guardar el resultado en un CSV\n",
    "df_output.to_csv(output_csv, index=False)\n",
    "\n",
    "print(f\"CSV file created: {output_csv}\")"
   ]
  }
 ],
 "metadata": {
  "kernelspec": {
   "display_name": "canonenv",
   "language": "python",
   "name": "python3"
  },
  "language_info": {
   "codemirror_mode": {
    "name": "ipython",
    "version": 3
   },
   "file_extension": ".py",
   "mimetype": "text/x-python",
   "name": "python",
   "nbconvert_exporter": "python",
   "pygments_lexer": "ipython3",
   "version": "3.10.8"
  }
 },
 "nbformat": 4,
 "nbformat_minor": 2
}
