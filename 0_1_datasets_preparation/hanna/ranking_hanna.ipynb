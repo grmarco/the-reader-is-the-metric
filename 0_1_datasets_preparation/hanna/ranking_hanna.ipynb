{
 "cells": [
  {
   "cell_type": "code",
   "execution_count": 2,
   "metadata": {},
   "outputs": [
    {
     "name": "stdout",
     "output_type": "stream",
     "text": [
      "CSV file created: output/worker_rankings_dataset.csv\n"
     ]
    },
    {
     "name": "stderr",
     "output_type": "stream",
     "text": [
      "/tmp/ipykernel_421293/693865860.py:35: DeprecationWarning: DataFrameGroupBy.apply operated on the grouping columns. This behavior is deprecated, and in a future version of pandas the grouping columns will be excluded from the operation. Either pass `include_groups=False` to exclude the groupings or explicitly select the grouping columns after groupby to silence this warning.\n",
      "  df_ranked = df.groupby('Worker ID').apply(assign_ranking).reset_index(drop=True)\n"
     ]
    }
   ],
   "source": [
    "import pandas as pd\n",
    "\n",
    "# Cargar el archivo CSV\n",
    "file_path = 'input/hanna_stories_annotations.csv'\n",
    "output_csv = 'output/worker_rankings_dataset.csv'\n",
    "df = pd.read_csv(file_path)\n",
    "\n",
    "# Crear la columna 'story_id' combinando 'Story ID' y 'Model'\n",
    "df['story_id'] = df['Story ID'].astype(str) + '_' + df['Model']\n",
    "\n",
    "# Definir las columnas de puntuación a considerar\n",
    "score_columns = ['Relevance', 'Coherence', 'Empathy', 'Surprise', 'Engagement', 'Complexity']\n",
    "\n",
    "# Calcular la suma de puntuaciones para cada historia\n",
    "df['total_score'] = df[score_columns].sum(axis=1)\n",
    "\n",
    "def assign_ranking(group):\n",
    "    group = group.copy()\n",
    "    # Ordenar las historias por puntuación total de forma descendente\n",
    "    group = group.sort_values('total_score', ascending=False)\n",
    "    # Asignar ranking: se utiliza dense para que en caso de empates se asigne la misma posición\n",
    "    group['ranking_pos'] = group['total_score'].rank(method='dense', ascending=False).astype(int)\n",
    "    # El valor del ranking es la puntuación total (para conservar la magnitud)\n",
    "    group['ranking_value'] = group['total_score']\n",
    "    # Calcular el ranking value normalizado por usuario (min-max)\n",
    "    min_score = group['ranking_value'].min()\n",
    "    max_score = group['ranking_value'].max()\n",
    "    if max_score - min_score != 0:\n",
    "        group['ranking_value_norm'] = (group['ranking_value'] - min_score) / (max_score - min_score)\n",
    "    else:\n",
    "        group['ranking_value_norm'] = 0.0\n",
    "    return group\n",
    "\n",
    "# Aplicar el ranking para cada trabajador (Worker ID)\n",
    "df_ranked = df.groupby('Worker ID').apply(assign_ranking).reset_index(drop=True)\n",
    "\n",
    "# Seleccionar las columnas deseadas y renombrar 'Worker ID' a 'worker_id'\n",
    "df_output = df_ranked[['Worker ID', 'story_id', 'ranking_pos', 'ranking_value', 'ranking_value_norm']]\\\n",
    "    .rename(columns={'Worker ID': 'worker_id'})\n",
    "\n",
    "# Exportar el resultado a CSV\n",
    "df_output.to_csv(output_csv, index=False)\n",
    "\n",
    "print(f\"CSV file created: {output_csv}\")"
   ]
  }
 ],
 "metadata": {
  "kernelspec": {
   "display_name": "canonenv",
   "language": "python",
   "name": "python3"
  },
  "language_info": {
   "codemirror_mode": {
    "name": "ipython",
    "version": 3
   },
   "file_extension": ".py",
   "mimetype": "text/x-python",
   "name": "python",
   "nbconvert_exporter": "python",
   "pygments_lexer": "ipython3",
   "version": "3.10.8"
  }
 },
 "nbformat": 4,
 "nbformat_minor": 2
}
