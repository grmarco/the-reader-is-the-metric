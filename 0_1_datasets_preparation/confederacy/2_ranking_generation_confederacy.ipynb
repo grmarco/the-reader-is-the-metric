{
 "cells": [
  {
   "cell_type": "code",
   "execution_count": 1,
   "metadata": {},
   "outputs": [
    {
     "name": "stdout",
     "output_type": "stream",
     "text": [
      "CSV file created: output/user_rankings.csv\n"
     ]
    },
    {
     "name": "stderr",
     "output_type": "stream",
     "text": [
      "/tmp/ipykernel_586489/2536200109.py:31: DeprecationWarning: DataFrameGroupBy.apply operated on the grouping columns. This behavior is deprecated, and in a future version of pandas the grouping columns will be excluded from the operation. Either pass `include_groups=False` to exclude the groupings or explicitly select the grouping columns after groupby to silence this warning.\n",
      "  df_ranked = df.groupby('user').apply(assign_ranking).reset_index(drop=True)\n"
     ]
    }
   ],
   "source": [
    "import pandas as pd\n",
    "\n",
    "# Define the paths\n",
    "csv_path = 'input/user_ratings.csv'\n",
    "output_csv = 'output/user_rankings.csv'\n",
    "\n",
    "# Read the CSV file\n",
    "df = pd.read_csv(csv_path, delimiter=';')\n",
    "\n",
    "# Calcular la puntuación total para cada historia por usuario\n",
    "df['total_score'] = df.iloc[:, 2:-1].sum(axis=1)\n",
    "\n",
    "def assign_ranking(group):\n",
    "    group = group.copy()\n",
    "    # Ordenar las historias por puntuación de forma descendente\n",
    "    group = group.sort_values('total_score', ascending=False)\n",
    "    # Asignar ranking: si hay empates se asigna la misma posición usando rank tipo dense\n",
    "    group['ranking_pos'] = group['total_score'].rank(method='dense', ascending=False).astype(int)\n",
    "    # El valor del ranking es la puntuación total (para conservar la magnitud)\n",
    "    group['ranking_value'] = group['total_score']\n",
    "    # Calcular el ranking value normalizado por usuario (min-max)\n",
    "    min_score = group['ranking_value'].min()\n",
    "    max_score = group['ranking_value'].max()\n",
    "    if max_score - min_score != 0:\n",
    "        group['ranking_value_norm'] = (group['ranking_value'] - min_score) / (max_score - min_score)\n",
    "    else:\n",
    "        group['ranking_value_norm'] = 0.0  # o el valor que prefieras para el caso de empate total\n",
    "    return group\n",
    "\n",
    "# Aplicar la función de ranking para cada usuario\n",
    "df_ranked = df.groupby('user').apply(assign_ranking).reset_index(drop=True)\n",
    "\n",
    "# Seleccionar las columnas deseadas y renombrar 'user' a 'user_id'\n",
    "df_output = df_ranked[['user', 'story_id', 'ranking_pos', 'ranking_value', 'ranking_value_norm']].rename(columns={'user': 'user_id'})\n",
    "\n",
    "# Guardar el resultado en un CSV\n",
    "df_output.to_csv(output_csv, index=False)\n",
    "\n",
    "print(f\"CSV file created: {output_csv}\")"
   ]
  },
  {
   "cell_type": "code",
   "execution_count": 2,
   "metadata": {},
   "outputs": [
    {
     "name": "stdout",
     "output_type": "stream",
     "text": [
      "CSV file created: output/user_rankings.csv\n"
     ]
    },
    {
     "name": "stderr",
     "output_type": "stream",
     "text": [
      "/tmp/ipykernel_586489/782194196.py:45: DeprecationWarning: DataFrameGroupBy.apply operated on the grouping columns. This behavior is deprecated, and in a future version of pandas the grouping columns will be excluded from the operation. Either pass `include_groups=False` to exclude the groupings or explicitly select the grouping columns after groupby to silence this warning.\n",
      "  df_ranked = df.groupby('user').apply(assign_ranking).reset_index(drop=True)\n"
     ]
    }
   ],
   "source": [
    "import pandas as pd\n",
    "\n",
    "# Definir las rutas\n",
    "csv_path = 'input/user_ratings.csv'\n",
    "output_csv = 'output/user_rankings.csv'\n",
    "mapping_csv = 'input/github_original/anonymization/mapping-grouped.csv'\n",
    "\n",
    "# Cargar el mapping y procesarlo\n",
    "mapping_df = pd.read_csv(mapping_csv)\n",
    "mapping_df['Original'] = mapping_df['Original'].str.replace('.txt', '')\n",
    "mapping_df['Anonymized'] = mapping_df['Anonymized'].str.replace('.txt', '')\n",
    "mapping_dict = dict(zip(mapping_df['Anonymized'], mapping_df['Original']))\n",
    "\n",
    "def update_story_idx(story_id):\n",
    "    original_id = mapping_dict.get(story_id, '')\n",
    "    if original_id:\n",
    "        return f\"{story_id}_{original_id}\"\n",
    "    else:\n",
    "        return story_id\n",
    "\n",
    "# Leer el CSV de ratings\n",
    "df = pd.read_csv(csv_path, delimiter=';')\n",
    "\n",
    "# Calcular la puntuación total para cada historia por usuario\n",
    "df['total_score'] = df.iloc[:, 2:-1].sum(axis=1)\n",
    "\n",
    "def assign_ranking(group):\n",
    "    group = group.copy()\n",
    "    # Ordenar las historias por puntuación de forma descendente\n",
    "    group = group.sort_values('total_score', ascending=False)\n",
    "    # Asignar ranking: si hay empates se asigna la misma posición usando rank tipo dense\n",
    "    group['ranking_pos'] = group['total_score'].rank(method='dense', ascending=False).astype(int)\n",
    "    # El valor del ranking es la puntuación total (para conservar la magnitud)\n",
    "    group['ranking_value'] = group['total_score']\n",
    "    # Calcular el ranking value normalizado por usuario (min-max)\n",
    "    min_score = group['ranking_value'].min()\n",
    "    max_score = group['ranking_value'].max()\n",
    "    if max_score - min_score != 0:\n",
    "        group['ranking_value_norm'] = (group['ranking_value'] - min_score) / (max_score - min_score)\n",
    "    else:\n",
    "        group['ranking_value_norm'] = 0.0\n",
    "    return group\n",
    "\n",
    "# Aplicar la función de ranking para cada usuario\n",
    "df_ranked = df.groupby('user').apply(assign_ranking).reset_index(drop=True)\n",
    "\n",
    "# Seleccionar las columnas deseadas y renombrar 'user' a 'user_id'\n",
    "df_output = df_ranked[['user', 'story_id', 'ranking_pos', 'ranking_value', 'ranking_value_norm']] \\\n",
    "    .rename(columns={'user': 'user_id'})\n",
    "\n",
    "# Actualizar la story_id usando el mapping\n",
    "df_output['story_id'] = df_output['story_id'].apply(update_story_idx)\n",
    "\n",
    "# Guardar el resultado en un CSV\n",
    "df_output.to_csv(output_csv, index=False)\n",
    "\n",
    "print(f\"CSV file created: {output_csv}\")"
   ]
  },
  {
   "cell_type": "code",
   "execution_count": null,
   "metadata": {},
   "outputs": [],
   "source": []
  }
 ],
 "metadata": {
  "kernelspec": {
   "display_name": "canonenv",
   "language": "python",
   "name": "python3"
  },
  "language_info": {
   "codemirror_mode": {
    "name": "ipython",
    "version": 3
   },
   "file_extension": ".py",
   "mimetype": "text/x-python",
   "name": "python",
   "nbconvert_exporter": "python",
   "pygments_lexer": "ipython3",
   "version": "3.10.8"
  }
 },
 "nbformat": 4,
 "nbformat_minor": 2
}
