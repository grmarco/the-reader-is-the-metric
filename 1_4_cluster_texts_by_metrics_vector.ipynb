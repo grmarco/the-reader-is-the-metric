{
 "cells": [
  {
   "cell_type": "code",
   "execution_count": null,
   "metadata": {},
   "outputs": [],
   "source": [
    "import pandas as pd"
   ]
  },
  {
   "cell_type": "code",
   "execution_count": null,
   "metadata": {},
   "outputs": [],
   "source": [
    "import plots\n",
    "import data_loader\n",
    "import config\n",
    "from config import selected_features"
   ]
  },
  {
   "cell_type": "code",
   "execution_count": null,
   "metadata": {},
   "outputs": [],
   "source": [
    "df = data_loader.load_text_metrics_data(config.stories_metrics_filepath)\n",
    "\n",
    "# Upload data\n",
    "weighted_metrics = pd.read_csv('outputs/paradigmatic_texts_by_user.csv')\n",
    "weighted_metrics['user_id'] = weighted_metrics['user_id'].apply(lambda x: \"reader_\"+x)\n",
    "# Rename the column 'user_id' to 'author'.\n",
    "weighted_metrics.rename(columns={'user_id': 'author'}, inplace=True)\n",
    "df = pd.concat([df, weighted_metrics], ignore_index=True)\n",
    "# Calcular las features\n",
    "df_inliers, features_inliers = data_loader.calculate_features(df, \n",
    "                                                              feature_cols=selected_features, \n",
    "                                                              normalization='standard', \n",
    "                                                              remove_outliers_flag=False)"
   ]
  },
  {
   "cell_type": "code",
   "execution_count": null,
   "metadata": {},
   "outputs": [],
   "source": [
    "dataset_name = 'pronvsprompt'\n",
    "df_result = plots.run_analysis(\n",
    "        df_inliers[df_inliers['dataset'] == dataset_name],\n",
    "        features=features_inliers[df_inliers['dataset'] == dataset_name],\n",
    "        feature_cols=selected_features,\n",
    "        remove_outliers=False,\n",
    "        dataset_title=\"pronvsprompt\"\n",
    "    )"
   ]
  },
  {
   "cell_type": "code",
   "execution_count": null,
   "metadata": {},
   "outputs": [],
   "source": [
    "dataset_name = 'slm'\n",
    "df_result = plots.run_analysis(\n",
    "        df_inliers[df_inliers['dataset'] == dataset_name],\n",
    "        features=features_inliers[df_inliers['dataset'] == dataset_name],\n",
    "        feature_cols=selected_features,\n",
    "        remove_outliers=False,\n",
    "        dataset_title=\"slm\"\n",
    "    )"
   ]
  },
  {
   "cell_type": "code",
   "execution_count": null,
   "metadata": {},
   "outputs": [],
   "source": [
    "dataset_name = 'ttcw'\n",
    "df_result = plots.run_analysis(\n",
    "        df_inliers[df_inliers['dataset'] == dataset_name],\n",
    "        features=features_inliers[df_inliers['dataset'] == dataset_name],\n",
    "        feature_cols=selected_features,\n",
    "        remove_outliers=False,\n",
    "        dataset_title=\"ttcw\"\n",
    "    )"
   ]
  },
  {
   "cell_type": "code",
   "execution_count": null,
   "metadata": {},
   "outputs": [],
   "source": [
    "dataset_name = 'confederacy'\n",
    "df_result = plots.run_analysis(\n",
    "        df_inliers[df_inliers['dataset'] == dataset_name],\n",
    "        features=features_inliers[df_inliers['dataset'] == dataset_name],\n",
    "        feature_cols=selected_features,\n",
    "        dataset_title=\"confederacy\",\n",
    "        remove_outliers=True\n",
    "    )"
   ]
  },
  {
   "cell_type": "code",
   "execution_count": null,
   "metadata": {},
   "outputs": [],
   "source": []
  }
 ],
 "metadata": {
  "kernelspec": {
   "display_name": "canonenv",
   "language": "python",
   "name": "python3"
  },
  "language_info": {
   "codemirror_mode": {
    "name": "ipython",
    "version": 3
   },
   "file_extension": ".py",
   "mimetype": "text/x-python",
   "name": "python",
   "nbconvert_exporter": "python",
   "pygments_lexer": "ipython3",
   "version": "3.10.8"
  }
 },
 "nbformat": 4,
 "nbformat_minor": 2
}
