{
 "cells": [
  {
   "cell_type": "code",
   "execution_count": null,
   "metadata": {},
   "outputs": [
    {
     "name": "stdout",
     "output_type": "stream",
     "text": [
      "Processed ttcw_pairs_balanced.json - Empates resueltos: 830\n",
      "Processed pronvsprompt_pairs_balanced.json - Empates resueltos: 13331\n",
      "Processed hanna_pairs_balanced.json - Empates resueltos: 555952\n",
      "Processed confederacy_pairs_balanced.json - Empates resueltos: 556342\n",
      "Processed poetry_pairs_balanced.json - Empates resueltos: 556387\n",
      "Processed slm_pairs_balanced.json - Empates resueltos: 560045\n"
     ]
    }
   ],
   "source": [
    "import pandas as pd\n",
    "import json\n",
    "import os\n",
    "\n",
    "input_dir = '1_2_datasets_final/1_pairwise_preferences/by_user'\n",
    "output_dir = '1_2_datasets_final/1_pairwise_preferences/majority_voting'\n",
    "os.makedirs(output_dir, exist_ok=True)\n",
    "\n",
    "contradiction_count = 0\n",
    "tie_count = 0\n",
    "\n",
    "for filename in os.listdir(input_dir):\n",
    "    if not filename.endswith('.json'):\n",
    "        continue\n",
    "\n",
    "    input_path = os.path.join(input_dir, filename)\n",
    "    output_path = os.path.join(output_dir, filename)\n",
    "\n",
    "    # Cargar el dataset original\n",
    "    with open(input_path, 'r', encoding='utf-8') as file:\n",
    "        data = json.load(file)\n",
    "    df = pd.DataFrame(data)\n",
    "    \n",
    "    # Crear clave de par ordenado alfabéticamente para identificar el par sin importar el orden.\n",
    "    df['pair'] = df.apply(lambda row: tuple(sorted([row['preferred_text'], row['other_text']])), axis=1)\n",
    "    \n",
    "    balanced_rows = []  # acumula filas balanceadas para cada par\n",
    "    # Procesar cada grupo de par\n",
    "    for pair, group in df.groupby('pair'):\n",
    "        A, B = pair\n",
    "        # Calcular el conteo según el orden original:\n",
    "        count_ab = group[(group['preferred_text'] == A) & (group['other_text'] == B)].shape[0]\n",
    "        count_ba = group[(group['preferred_text'] == B) & (group['other_text'] == A)].shape[0]\n",
    "        net_vote = count_ab - count_ba\n",
    "\n",
    "        # Resolver empates: si net_vote == 0, usar el orden lexicográfico (A, B)\n",
    "        if net_vote == 0:\n",
    "            tie_count += 1\n",
    "            majority_preferred, majority_other = A, B\n",
    "        elif net_vote > 0:\n",
    "            majority_preferred, majority_other = A, B\n",
    "        else:\n",
    "            majority_preferred, majority_other = B, A\n",
    "\n",
    "        # Generar las dos filas balanceadas\n",
    "        pos_row = {\n",
    "            'preferred_text': majority_preferred,\n",
    "            'other_text': majority_other,\n",
    "            'label': 1,\n",
    "            'user_id': 'majority_voting'\n",
    "        }\n",
    "        neg_row = {\n",
    "            'preferred_text': majority_other,\n",
    "            'other_text': majority_preferred,\n",
    "            'label': 0,\n",
    "            'user_id': 'majority_voting'\n",
    "        }\n",
    "        balanced_rows.extend([pos_row, neg_row])\n",
    "    \n",
    "    # Guardar el dataset balanceado\n",
    "    with open(output_path, 'w', encoding='utf-8') as outfile:\n",
    "        json.dump(balanced_rows, outfile, ensure_ascii=False, indent=4)\n",
    "    print(f\"Processed {filename} - Empates resueltos: {tie_count}\")"
   ]
  },
  {
   "cell_type": "code",
   "execution_count": null,
   "metadata": {},
   "outputs": [],
   "source": []
  }
 ],
 "metadata": {
  "kernelspec": {
   "display_name": "canonenv",
   "language": "python",
   "name": "python3"
  },
  "language_info": {
   "codemirror_mode": {
    "name": "ipython",
    "version": 3
   },
   "file_extension": ".py",
   "mimetype": "text/x-python",
   "name": "python",
   "nbconvert_exporter": "python",
   "pygments_lexer": "ipython3",
   "version": "3.10.8"
  }
 },
 "nbformat": 4,
 "nbformat_minor": 2
}
